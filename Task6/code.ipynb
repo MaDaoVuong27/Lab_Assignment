{
 "cells": [
  {
   "cell_type": "code",
   "execution_count": null,
   "id": "6ae9b806",
   "metadata": {},
   "outputs": [],
   "source": [
    "import pandas as pd\n",
    "import numpy as np\n",
    "import matplotlib.pyplot as plt\n",
    "import seaborn as sns\n",
    "from pandas import read_csv\n",
    "from ydata_profiling import ProfileReport\n",
    "from sklearn.model_selection import train_test_split, GridSearchCV, RandomizedSearchCV\n",
    "from sklearn.preprocessing import StandardScaler, MinMaxScaler, OrdinalEncoder, OneHotEncoder, LabelEncoder\n",
    "from sklearn.compose import ColumnTransformer\n",
    "from sklearn.metrics import classification_report\n",
    "from sklearn.impute import SimpleImputer\n",
    "from sklearn.pipeline import Pipeline\n",
    "from sklearn.ensemble import RandomForestClassifier, RandomForestRegressor\n",
    "from sklearn.linear_model import LogisticRegression, LinearRegression\n",
    "import lightgbm as lgb\n",
    "from sklearn import svm\n",
    "from sklearn.metrics import mean_squared_error, mean_absolute_error, r2_score\n",
    "from lazypredict.Supervised import LazyClassifier, LazyRegressor\n",
    "from sklearn.feature_extraction.text import TfidfVectorizer\n",
    "from sklearn.feature_selection import SelectKBest, chi2, SelectPercentile\n",
    "from imblearn.over_sampling import RandomOverSampler, SMOTE, SMOTEN\n",
    "import re"
   ]
  },
  {
   "cell_type": "code",
   "execution_count": null,
   "id": "698a1a03",
   "metadata": {},
   "outputs": [],
   "source": [
    "df = pd.read_csv(\"german.data-numeric\", \n",
    "                 sep=r\"\\s+\",        # regex: 1 hoặc nhiều khoảng trắng\n",
    "                 header=None)       # không có header trong file\n",
    "\n",
    "# Xem trước dữ liệu\n",
    "print(df.head())\n",
    "print(df.shape)"
   ]
  },
  {
   "cell_type": "code",
   "execution_count": null,
   "id": "58aeb473",
   "metadata": {},
   "outputs": [],
   "source": [
    "columns = [str(i) for i in range(1, 25)] + ['target']\n",
    "df.columns = columns\n",
    "print(df.head())"
   ]
  },
  {
   "cell_type": "code",
   "execution_count": null,
   "id": "d7319941",
   "metadata": {},
   "outputs": [],
   "source": [
    "df[\"target\"] = df[\"target\"].replace({1: 0, 2: 1})\n",
    "print(df.info())"
   ]
  },
  {
   "cell_type": "code",
   "execution_count": null,
   "id": "a7776c48",
   "metadata": {},
   "outputs": [],
   "source": [
    "original_df = df.copy()"
   ]
  },
  {
   "cell_type": "code",
   "execution_count": null,
   "id": "a91dbdda",
   "metadata": {},
   "outputs": [],
   "source": [
    "x = df.drop('target', axis = 1)\n",
    "y = df['target']"
   ]
  },
  {
   "cell_type": "code",
   "execution_count": null,
   "id": "4ed4da42",
   "metadata": {},
   "outputs": [],
   "source": [
    "x_train, x_test, y_train, y_test = train_test_split(x, y, test_size = 0.2, random_state=42, stratify=y)"
   ]
  },
  {
   "cell_type": "code",
   "execution_count": null,
   "id": "e3ee1d8e",
   "metadata": {},
   "outputs": [],
   "source": [
    "scaler = StandardScaler()\n",
    "x_train = scaler.fit_transform(x_train)\n",
    "x_test = scaler.transform(x_test)"
   ]
  },
  {
   "cell_type": "code",
   "execution_count": null,
   "id": "92f1e44f",
   "metadata": {},
   "outputs": [],
   "source": [
    "clf = LazyClassifier(verbose=0, ignore_warnings=True, custom_metric=None)\n",
    "models, predictions = clf.fit(x_train, x_test, y_train, y_test)\n",
    "print(models)"
   ]
  },
  {
   "cell_type": "code",
   "execution_count": null,
   "id": "53e30d2c",
   "metadata": {},
   "outputs": [],
   "source": [
    "# Giả sử df đã là DataFrame với các cột số (numeric)\n",
    "corr_matrix = df.corr()\n",
    "\n",
    "for col in corr_matrix.columns:\n",
    "    # Lấy tương quan của col với các cột khác\n",
    "    corr_with_col = corr_matrix[col].drop(col)\n",
    "\n",
    "    # Tìm feature có tương quan cao nhất tuyệt đối\n",
    "    max_corr_feature = corr_with_col.abs().idxmax()\n",
    "    max_corr_value = corr_with_col[max_corr_feature]\n",
    "\n",
    "    print(f\"Feature '{col}' tương quan cao nhất với '{max_corr_feature}' = {max_corr_value:.3f}\")"
   ]
  },
  {
   "cell_type": "code",
   "execution_count": null,
   "id": "ee546bc5",
   "metadata": {},
   "outputs": [],
   "source": [
    "from sklearn.calibration import CalibratedClassifierCV\n",
    "from sklearn.metrics import roc_auc_score\n",
    "from sklearn.neural_network import MLPClassifier\n",
    "from sklearn.tree import DecisionTreeClassifier\n",
    "from sklearn.linear_model import RidgeClassifierCV, RidgeClassifier\n",
    "from sklearn.dummy import DummyClassifier\n",
    "from sklearn.ensemble import AdaBoostClassifier, ExtraTreesClassifier, BaggingClassifier\n",
    "from sklearn.naive_bayes import BernoulliNB\n",
    "from xgboost import XGBClassifier\n",
    "from lightgbm import LGBMClassifier\n",
    "from sklearn.linear_model import Perceptron, PassiveAggressiveClassifier\n",
    "from sklearn.svm import LinearSVC\n",
    "from sklearn.discriminant_analysis import LinearDiscriminantAnalysis"
   ]
  },
  {
   "cell_type": "code",
   "execution_count": null,
   "id": "cc51af06",
   "metadata": {},
   "outputs": [],
   "source": [
    "model = LGBMClassifier(random_state=42)\n",
    "\n",
    "param_grid = {\n",
    "    \"num_leaves\": [15, 31, 63, 127],          # số lá trên mỗi cây\n",
    "    \"max_depth\": [-1, 5, 10, 20, 30],        # độ sâu tối đa của cây (-1 nghĩa là không giới hạn)\n",
    "    \"learning_rate\": [0.01, 0.05, 0.1, 0.2], # tốc độ học\n",
    "    \"n_estimators\": [50, 100, 200, 500],     # số lượng cây boosting\n",
    "    \"subsample\": [0.6, 0.8, 1.0],            # tỷ lệ mẫu dùng cho mỗi cây (bagging fraction)\n",
    "    \"colsample_bytree\": [0.6, 0.8, 1.0],     # tỷ lệ cột (feature fraction)\n",
    "    \"reg_alpha\": [0, 0.01, 0.1, 1],          # L1 regularization\n",
    "    \"reg_lambda\": [0, 0.01, 0.1, 1],         # L2 regularization\n",
    "    \"min_child_samples\": [5, 10, 20, 50],    # số lượng mẫu tối thiểu trong 1 leaf\n",
    "    \"boosting_type\": [\"gbdt\", \"dart\"],       # loại boosting: gbdt (chuẩn), dart (dropout boosting)\n",
    "    \"objective\": [\"binary\"],                 # với bài toán phân loại nhị phân\n",
    "}"
   ]
  },
  {
   "cell_type": "code",
   "execution_count": null,
   "id": "6a3afcf0",
   "metadata": {},
   "outputs": [],
   "source": [
    "grid = GridSearchCV(estimator = model, param_grid = param_grid, scoring = 'accuracy', cv = 4, verbose = 1)\n",
    "grid.fit(x_train, y_train)\n",
    "y_predict = grid.predict(x_test)\n",
    "y_proba = grid.predict_proba(x_test)[:, 1]\n",
    "print(grid.best_params_)\n",
    "print(grid.best_score_)\n",
    "print(classification_report(y_test, y_predict, digits = 4))\n",
    "auc = roc_auc_score(y_test, y_proba)\n",
    "print(\"AUC =\", round(auc, 4))"
   ]
  },
  {
   "cell_type": "code",
   "execution_count": null,
   "id": "84422c5d",
   "metadata": {},
   "outputs": [],
   "source": [
    "model.fit(x_train, y_train)\n",
    "y_predict = model.predict(x_test)\n",
    "y_proba = model.predict_proba(x_test)[:, 1]\n",
    "print(classification_report(y_test, y_predict, digits = 4))\n",
    "\n",
    "auc = roc_auc_score(y_test, y_proba)\n",
    "print(\"AUC =\", round(auc, 4))"
   ]
  },
  {
   "cell_type": "code",
   "execution_count": null,
   "id": "add56b70",
   "metadata": {},
   "outputs": [],
   "source": [
    "x_train, x_test, y_train, y_test = train_test_split(x, y, test_size = 0.2, random_state=42, stratify=y)"
   ]
  },
  {
   "cell_type": "code",
   "execution_count": null,
   "id": "5ff21481",
   "metadata": {},
   "outputs": [],
   "source": [
    "from imblearn.over_sampling import RandomOverSampler\n",
    "from collections import Counter\n",
    "\n",
    "print(\"Trước khi oversampling:\", Counter(y_train))\n",
    "\n",
    "ros = RandomOverSampler(random_state=42)\n",
    "x_train, y_train = ros.fit_resample(x_train, y_train)\n",
    "\n",
    "print(\"Sau khi oversampling:\", Counter(y_train))"
   ]
  },
  {
   "cell_type": "code",
   "execution_count": null,
   "id": "f182a4d4",
   "metadata": {},
   "outputs": [],
   "source": [
    "scaler = StandardScaler()\n",
    "x_train = scaler.fit_transform(x_train)\n",
    "x_test = scaler.transform(x_test)"
   ]
  },
  {
   "cell_type": "code",
   "execution_count": null,
   "id": "97cbaac2",
   "metadata": {},
   "outputs": [],
   "source": [
    "model = LGBMClassifier(random_state=42)\n",
    "\n",
    "param_grid = {\n",
    "    \"n_estimators\": [100, 200, 500],\n",
    "    \"learning_rate\": [0.01, 0.05, 0.1],\n",
    "    \"num_leaves\": [31, 63],\n",
    "    \"max_depth\": [-1, 5, 10],\n",
    "    \"min_child_samples\": [5, 10],\n",
    "    \"subsample\": [0.7, 0.8, 1.0],\n",
    "    \"colsample_bytree\": [0.7, 0.8],\n",
    "    \"reg_alpha\": [0, 0.1],\n",
    "    \"reg_lambda\": [0, 0.1]\n",
    "}"
   ]
  },
  {
   "cell_type": "code",
   "execution_count": null,
   "id": "b4cb0e54",
   "metadata": {},
   "outputs": [],
   "source": [
    "grid = GridSearchCV(estimator = model, param_grid = param_grid, scoring = 'accuracy', cv = 4, verbose = 1)\n",
    "grid.fit(x_train, y_train)\n",
    "y_predict = grid.predict(x_test)\n",
    "y_proba = grid.predict_proba(x_test)[:, 1]\n",
    "print(grid.best_params_)\n",
    "print(grid.best_score_)\n",
    "print(classification_report(y_test, y_predict, digits = 4))\n",
    "auc = roc_auc_score(y_test, y_proba)\n",
    "print(\"AUC =\", round(auc, 4))"
   ]
  },
  {
   "cell_type": "code",
   "execution_count": null,
   "id": "07f9765d",
   "metadata": {},
   "outputs": [],
   "source": [
    "model.fit(x_train, y_train)\n",
    "y_predict = model.predict(x_test)\n",
    "y_proba = model.predict_proba(x_test)[:, 1]\n",
    "print(classification_report(y_test, y_predict, digits = 4))\n",
    "\n",
    "auc = roc_auc_score(y_test, y_proba)\n",
    "print(\"AUC =\", round(auc, 4))"
   ]
  }
 ],
 "metadata": {
  "kernelspec": {
   "display_name": "Python 3.12.7",
   "language": "python",
   "name": "myenv"
  },
  "language_info": {
   "codemirror_mode": {
    "name": "ipython",
    "version": 3
   },
   "file_extension": ".py",
   "mimetype": "text/x-python",
   "name": "python",
   "nbconvert_exporter": "python",
   "pygments_lexer": "ipython3",
   "version": "3.12.9"
  }
 },
 "nbformat": 4,
 "nbformat_minor": 5
}
