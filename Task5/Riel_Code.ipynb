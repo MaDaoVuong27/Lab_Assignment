{
 "cells": [
  {
   "cell_type": "code",
   "execution_count": null,
   "id": "13ccf4e7",
   "metadata": {},
   "outputs": [],
   "source": [
    "import pandas as pd\n",
    "import numpy as np\n",
    "import matplotlib.pyplot as plt\n",
    "import seaborn as sns\n",
    "from pandas import read_csv\n",
    "from ydata_profiling import ProfileReport\n",
    "from sklearn.model_selection import train_test_split, GridSearchCV, RandomizedSearchCV\n",
    "from sklearn.preprocessing import StandardScaler, MinMaxScaler, OrdinalEncoder, OneHotEncoder, LabelEncoder\n",
    "from sklearn.compose import ColumnTransformer\n",
    "from sklearn.metrics import classification_report\n",
    "from sklearn.impute import SimpleImputer\n",
    "from sklearn.pipeline import Pipeline\n",
    "from sklearn.ensemble import RandomForestClassifier, RandomForestRegressor\n",
    "from sklearn.linear_model import LogisticRegression, LinearRegression\n",
    "import lightgbm as lgb\n",
    "from sklearn import svm\n",
    "from sklearn.metrics import mean_squared_error, mean_absolute_error, r2_score\n",
    "from lazypredict.Supervised import LazyClassifier, LazyRegressor\n",
    "from sklearn.feature_extraction.text import TfidfVectorizer\n",
    "from sklearn.feature_selection import SelectKBest, chi2, SelectPercentile\n",
    "from imblearn.over_sampling import RandomOverSampler, SMOTE, SMOTEN\n",
    "import re"
   ]
  },
  {
   "cell_type": "code",
   "execution_count": null,
   "id": "ff484783",
   "metadata": {},
   "outputs": [],
   "source": [
    "df = pd.read_csv('insurance_claims.csv')"
   ]
  },
  {
   "cell_type": "code",
   "execution_count": null,
   "id": "3b79051d",
   "metadata": {},
   "outputs": [],
   "source": [
    "df_original = df.copy()"
   ]
  },
  {
   "cell_type": "code",
   "execution_count": null,
   "id": "ea6d66f4",
   "metadata": {},
   "outputs": [],
   "source": [
    "print(df.info())"
   ]
  },
  {
   "cell_type": "code",
   "execution_count": null,
   "id": "e3adfdee",
   "metadata": {},
   "outputs": [],
   "source": [
    "colum_name =[]\n",
    "unique_value=[]\n",
    "# Iterate through the columns\n",
    "for col in df:\n",
    "    if df[col].dtype == 'object':\n",
    "        # If 2 or fewer unique categories\n",
    "        colum_name.append(str(col)) \n",
    "        unique_value.append(df[col].nunique())\n",
    "table= pd.DataFrame()\n",
    "table['Col_name'] = colum_name\n",
    "table['Value']= unique_value\n",
    "            \n",
    "table=table.sort_values('Value',ascending=False)\n",
    "table"
   ]
  },
  {
   "cell_type": "code",
   "execution_count": null,
   "id": "d7fe71ca",
   "metadata": {},
   "outputs": [],
   "source": [
    "to_drop = [\n",
    "    'policy_number',\n",
    "    'policy_bind_date',\n",
    "    'insured_zip',\n",
    "    'incident_date', \n",
    "    'incident_location',\n",
    "    'incident_hour_of_the_day',\n",
    "    'auto_model',\n",
    "    'auto_year',\n",
    "    '_c39'\n",
    "]\n",
    "\n",
    "df = df.drop(to_drop, axis = 1)"
   ]
  },
  {
   "cell_type": "code",
   "execution_count": null,
   "id": "94e39c5f",
   "metadata": {},
   "outputs": [],
   "source": [
    "print(df.info())"
   ]
  },
  {
   "cell_type": "code",
   "execution_count": null,
   "id": "bda9b528",
   "metadata": {},
   "outputs": [],
   "source": [
    "df.replace('?', np.nan, inplace=True)"
   ]
  },
  {
   "cell_type": "code",
   "execution_count": null,
   "id": "f3321c1a",
   "metadata": {},
   "outputs": [],
   "source": [
    "df.isna().sum()"
   ]
  },
  {
   "cell_type": "code",
   "execution_count": null,
   "id": "9181429c",
   "metadata": {},
   "outputs": [],
   "source": [
    "df['collision_type'] = df['collision_type'].fillna(df['collision_type'].mode()[0])\n",
    "df['property_damage'] = df['property_damage'].fillna(df['property_damage'].mode()[0])\n",
    "df['police_report_available'] = df['police_report_available'].fillna(df['police_report_available'].mode()[0])"
   ]
  },
  {
   "cell_type": "code",
   "execution_count": null,
   "id": "5d5b53fb",
   "metadata": {},
   "outputs": [],
   "source": [
    "df.isna().sum()"
   ]
  },
  {
   "cell_type": "code",
   "execution_count": null,
   "id": "98e74ffa",
   "metadata": {},
   "outputs": [],
   "source": [
    "df['insured_hobbies']=df['insured_hobbies'].apply(lambda x :'Other' if x!='chess' and x!='cross-fit' else x)"
   ]
  },
  {
   "cell_type": "code",
   "execution_count": null,
   "id": "5af0dbc7",
   "metadata": {},
   "outputs": [],
   "source": [
    "x = df.drop('fraud_reported', axis = 1)\n",
    "y = df['fraud_reported']"
   ]
  },
  {
   "cell_type": "code",
   "execution_count": null,
   "id": "098bc182",
   "metadata": {},
   "outputs": [],
   "source": [
    "cat_df = x.select_dtypes(include = ['object'])"
   ]
  },
  {
   "cell_type": "code",
   "execution_count": null,
   "id": "72cf6e7b",
   "metadata": {},
   "outputs": [],
   "source": [
    "for col in cat_df.columns:\n",
    "    print(f\"{col}: \\n{cat_df[col].unique()}\\n\")"
   ]
  },
  {
   "cell_type": "code",
   "execution_count": null,
   "id": "f39619e3",
   "metadata": {},
   "outputs": [],
   "source": [
    "cat_df = pd.get_dummies(cat_df, drop_first = True)"
   ]
  },
  {
   "cell_type": "code",
   "execution_count": null,
   "id": "c0078259",
   "metadata": {},
   "outputs": [],
   "source": [
    "print(cat_df.info())"
   ]
  },
  {
   "cell_type": "code",
   "execution_count": null,
   "id": "c1212ed7",
   "metadata": {},
   "outputs": [],
   "source": [
    "num_df = x.select_dtypes(include = ['int64', 'float64'])"
   ]
  },
  {
   "cell_type": "code",
   "execution_count": null,
   "id": "db5b1e73",
   "metadata": {},
   "outputs": [],
   "source": [
    "x = pd.concat([num_df, cat_df], axis = 1)"
   ]
  },
  {
   "cell_type": "code",
   "execution_count": null,
   "id": "95ce200e",
   "metadata": {},
   "outputs": [],
   "source": [
    "print(x.info())"
   ]
  },
  {
   "cell_type": "code",
   "execution_count": null,
   "id": "53a04759",
   "metadata": {},
   "outputs": [],
   "source": [
    "le = LabelEncoder()\n",
    "y = le.fit_transform(y)"
   ]
  },
  {
   "cell_type": "code",
   "execution_count": null,
   "id": "b3e78423",
   "metadata": {},
   "outputs": [],
   "source": [
    "x_train, x_test, y_train, y_test = train_test_split(x, y, test_size = 0.2, stratify = y)"
   ]
  },
  {
   "cell_type": "code",
   "execution_count": null,
   "id": "a34bf1ee",
   "metadata": {},
   "outputs": [],
   "source": [
    "num_df = x_train.select_dtypes(include = ['int64', 'float64'])"
   ]
  },
  {
   "cell_type": "code",
   "execution_count": null,
   "id": "d0418e66",
   "metadata": {},
   "outputs": [],
   "source": [
    "scaler = StandardScaler()\n",
    "scaled_data = scaler.fit_transform(num_df)"
   ]
  },
  {
   "cell_type": "code",
   "execution_count": null,
   "id": "23f3140a",
   "metadata": {},
   "outputs": [],
   "source": [
    "scaled_num_df = pd.DataFrame(data = scaled_data, columns = num_df.columns, index = x_train.index)"
   ]
  },
  {
   "cell_type": "code",
   "execution_count": null,
   "id": "bf9c177a",
   "metadata": {},
   "outputs": [],
   "source": [
    "x_train.drop(columns = scaled_num_df.columns, inplace = True)"
   ]
  },
  {
   "cell_type": "code",
   "execution_count": null,
   "id": "4ff5905f",
   "metadata": {},
   "outputs": [],
   "source": [
    "x_train = pd.concat([scaled_num_df, x_train], axis = 1)"
   ]
  },
  {
   "cell_type": "code",
   "execution_count": null,
   "id": "a2af4188",
   "metadata": {},
   "outputs": [],
   "source": [
    "# First get the numerical columns from X_test (same columns as num_df)\n",
    "num_test = x_test.select_dtypes(include = ['int64', 'float64'])\n",
    "\n",
    "# Scale the numerical columns\n",
    "scaled_test_data = scaler.transform(num_test)\n",
    "\n",
    "# Convert to DataFrame\n",
    "scaled_num_test = pd.DataFrame(data=scaled_test_data, columns=num_test.columns, index=x_test.index)\n",
    "\n",
    "# Drop original numerical columns from X_test\n",
    "x_test.drop(columns=num_test.columns, inplace=True)\n",
    "\n",
    "# Concatenate scaled numerical data with remaining columns\n",
    "x_test = pd.concat([scaled_num_test, x_test], axis=1)"
   ]
  },
  {
   "cell_type": "code",
   "execution_count": null,
   "id": "730d2c52",
   "metadata": {},
   "outputs": [],
   "source": [
    "print(x_train.info())\n",
    "print(x_test.info())\n",
    "print(x_train.shape)\n",
    "print(x_test.shape)"
   ]
  },
  {
   "cell_type": "markdown",
   "id": "42fd22d6",
   "metadata": {},
   "source": [
    "TRAIN"
   ]
  },
  {
   "cell_type": "code",
   "execution_count": null,
   "id": "5cd7414a",
   "metadata": {},
   "outputs": [],
   "source": [
    "clf = LazyClassifier(verbose=0, ignore_warnings=True, custom_metric=None)\n",
    "models, predictions = clf.fit(x_train, x_test, y_train, y_test)\n",
    "print(models)"
   ]
  },
  {
   "cell_type": "code",
   "execution_count": null,
   "id": "931be6c0",
   "metadata": {},
   "outputs": [],
   "source": [
    "from sklearn.calibration import CalibratedClassifierCV\n",
    "from sklearn.metrics import roc_auc_score\n",
    "from sklearn.neural_network import MLPClassifier\n",
    "from sklearn.tree import DecisionTreeClassifier\n",
    "from sklearn.linear_model import RidgeClassifierCV\n",
    "from sklearn.dummy import DummyClassifier\n",
    "from sklearn.ensemble import AdaBoostClassifier\n",
    "from sklearn.naive_bayes import BernoulliNB\n",
    "from xgboost import XGBClassifier\n",
    "from lightgbm import LGBMClassifier\n",
    "from sklearn.linear_model import Perceptron"
   ]
  },
  {
   "cell_type": "code",
   "execution_count": null,
   "id": "10428bd9",
   "metadata": {},
   "outputs": [],
   "source": [
    "model = MLPClassifier(random_state = 42)\n",
    "model.fit(x_train, y_train)\n",
    "y_predict = model.predict(x_test)\n",
    "y_proba = model.predict_proba(x_test)[:, 1]\n",
    "print(classification_report(y_test, y_predict, digits = 4))\n",
    "\n",
    "auc = roc_auc_score(y_test, y_proba)\n",
    "print(\"AUC =\", round(auc, 4))"
   ]
  },
  {
   "cell_type": "code",
   "execution_count": null,
   "id": "801f3c6a",
   "metadata": {},
   "outputs": [],
   "source": [
    "model = LogisticRegression(random_state=42)\n",
    "\n",
    "param = {\n",
    "    'C': [0.5, 1.0, 1.5],\n",
    "    'tol': [1e-3, 1e-4], \n",
    "    'fit_intercept': [True, False],\n",
    "    'solver': ['lbfgs', 'liblinear', 'newton-cg', 'newton-cholesky', 'sag', 'saga']\n",
    "}"
   ]
  },
  {
   "cell_type": "code",
   "execution_count": null,
   "id": "9907e6bc",
   "metadata": {},
   "outputs": [],
   "source": [
    "grid = GridSearchCV(estimator = model, param_grid = param, scoring = 'accuracy', cv = 4, verbose = 2)\n",
    "grid.fit(x_train, y_train)\n",
    "y_predict = grid.predict(x_test)\n",
    "print(grid.best_params_)\n",
    "print(grid.best_score_)\n",
    "print(classification_report(y_test, y_predict, digits = 4))\n",
    "print(\"AUC =\", round(auc, 4))"
   ]
  },
  {
   "cell_type": "markdown",
   "id": "96b8e9f9",
   "metadata": {},
   "source": [
    "OK SMOTENC"
   ]
  },
  {
   "cell_type": "code",
   "execution_count": null,
   "id": "ea45006b",
   "metadata": {},
   "outputs": [],
   "source": [
    "df2 = df.copy()"
   ]
  },
  {
   "cell_type": "code",
   "execution_count": null,
   "id": "4d8081a6",
   "metadata": {},
   "outputs": [],
   "source": [
    "x2 = df2.drop('fraud_reported', axis = 1)\n",
    "y2 = df2['fraud_reported']"
   ]
  },
  {
   "cell_type": "code",
   "execution_count": null,
   "id": "54a0470f",
   "metadata": {},
   "outputs": [],
   "source": [
    "le = LabelEncoder()\n",
    "y2 = le.fit_transform(y2)"
   ]
  },
  {
   "cell_type": "code",
   "execution_count": null,
   "id": "39e59ce2",
   "metadata": {},
   "outputs": [],
   "source": [
    "print(x2.info())"
   ]
  },
  {
   "cell_type": "code",
   "execution_count": null,
   "id": "49f2791f",
   "metadata": {},
   "outputs": [],
   "source": [
    "print(x2.shape)\n",
    "print(y2.shape)"
   ]
  },
  {
   "cell_type": "code",
   "execution_count": null,
   "id": "fd39dc4b",
   "metadata": {},
   "outputs": [],
   "source": [
    "x2_train, x2_test, y2_train, y2_test = train_test_split(x2, y2, test_size = 0.2, random_state=42, stratify = y)"
   ]
  },
  {
   "cell_type": "code",
   "execution_count": null,
   "id": "5719d102",
   "metadata": {},
   "outputs": [],
   "source": [
    "from imblearn.over_sampling import SMOTENC\n",
    "\n",
    "categorical_features = [i for i, col_type in enumerate(x2_train.dtypes) if col_type == 'object']\n",
    "\n",
    "smt =  SMOTENC(random_state = 42, k_neighbors = 2, categorical_features=categorical_features)\n",
    "x2_train, y2_train = smt.fit_resample(x2_train, y2_train)"
   ]
  },
  {
   "cell_type": "code",
   "execution_count": null,
   "id": "b339c310",
   "metadata": {},
   "outputs": [],
   "source": [
    "print(x2_train.shape)\n",
    "print(y2_train.shape)"
   ]
  },
  {
   "cell_type": "code",
   "execution_count": null,
   "id": "fc267f22",
   "metadata": {},
   "outputs": [],
   "source": [
    "cat_df2 = []\n",
    "num_df2 = []\n",
    "cat = []"
   ]
  },
  {
   "cell_type": "code",
   "execution_count": null,
   "id": "d4eaab64",
   "metadata": {},
   "outputs": [],
   "source": [
    "cat_df2 = x2_train.select_dtypes(include=['object'])\n",
    "cat_df2 = pd.get_dummies(cat_df2, drop_first=True)"
   ]
  },
  {
   "cell_type": "code",
   "execution_count": null,
   "id": "547a18fa",
   "metadata": {},
   "outputs": [],
   "source": [
    "cat = x2_train.select_dtypes(include = ['object'])\n",
    "x2_train.drop(columns = cat.columns, inplace = True)\n",
    "x2_train = pd.concat([cat_df2, x2_train], axis = 1)"
   ]
  },
  {
   "cell_type": "code",
   "execution_count": null,
   "id": "00435254",
   "metadata": {},
   "outputs": [],
   "source": [
    "num_df2 = x2_train.select_dtypes(include = ['int64', 'float64'])\n",
    "scaler = StandardScaler()\n",
    "scaled__train2 = scaler.fit_transform(num_df2)\n",
    "scaled_train2_df = pd.DataFrame(data = scaled__train2, columns = num_df2.columns, index = x2_train.index)"
   ]
  },
  {
   "cell_type": "code",
   "execution_count": null,
   "id": "e738e3a3",
   "metadata": {},
   "outputs": [],
   "source": [
    "x2_train.drop(columns = scaled_train2_df.columns, inplace = True)\n",
    "x2_train = pd.concat([scaled_train2_df, x2_train], axis = 1)"
   ]
  },
  {
   "cell_type": "markdown",
   "id": "053d7a37",
   "metadata": {},
   "source": [
    "for x_test"
   ]
  },
  {
   "cell_type": "code",
   "execution_count": null,
   "id": "a63e0256",
   "metadata": {},
   "outputs": [],
   "source": [
    "cat_df2 = []\n",
    "num_df2 = []\n",
    "cat = []"
   ]
  },
  {
   "cell_type": "code",
   "execution_count": null,
   "id": "12d3fe0e",
   "metadata": {},
   "outputs": [],
   "source": [
    "cat_df2 = x2_test.select_dtypes(include=['object'])\n",
    "cat_df2 = pd.get_dummies(cat_df2, drop_first=True)"
   ]
  },
  {
   "cell_type": "code",
   "execution_count": null,
   "id": "acd18da7",
   "metadata": {},
   "outputs": [],
   "source": [
    "cat = x2_test.select_dtypes(include = ['object'])\n",
    "x2_test.drop(columns = cat.columns, inplace = True)\n",
    "x2_test = pd.concat([cat_df2, x2_test], axis = 1)"
   ]
  },
  {
   "cell_type": "code",
   "execution_count": null,
   "id": "d278c662",
   "metadata": {},
   "outputs": [],
   "source": [
    "num_df2 = x2_test.select_dtypes(include = ['int64', 'float64'])\n",
    "scaled__train2 = scaler.transform(num_df2)\n",
    "scaled_train2_df = pd.DataFrame(data = scaled__train2, columns = num_df2.columns, index = x2_test.index)"
   ]
  },
  {
   "cell_type": "code",
   "execution_count": null,
   "id": "e4387dd2",
   "metadata": {},
   "outputs": [],
   "source": [
    "x2_test.drop(columns = scaled_train2_df.columns, inplace = True)\n",
    "x2_test = pd.concat([scaled_train2_df, x2_test], axis = 1)"
   ]
  },
  {
   "cell_type": "code",
   "execution_count": null,
   "id": "f99ed91f",
   "metadata": {},
   "outputs": [],
   "source": [
    "model = MLPClassifier(random_state=42)\n",
    "model.fit(x2_train, y2_train)\n",
    "y_predict = model.predict(x2_test)\n",
    "y_proba = model.predict_proba(x2_test)[:, 1]\n",
    "print(classification_report(y2_test, y_predict, digits = 4))\n",
    "\n",
    "auc = roc_auc_score(y2_test, y_proba)\n",
    "print(\"AUC =\", round(auc, 4))"
   ]
  },
  {
   "cell_type": "markdown",
   "id": "70ad43fa",
   "metadata": {},
   "source": [
    "RANDOM OVER SAMPLER"
   ]
  },
  {
   "cell_type": "code",
   "execution_count": null,
   "id": "7d32749e",
   "metadata": {},
   "outputs": [],
   "source": [
    "x3 = df.drop('fraud_reported', axis = 1)\n",
    "y3 = df['fraud_reported']"
   ]
  },
  {
   "cell_type": "code",
   "execution_count": null,
   "id": "336b3b28",
   "metadata": {},
   "outputs": [],
   "source": [
    "le = LabelEncoder()\n",
    "y3 = le.fit_transform(y3)"
   ]
  },
  {
   "cell_type": "code",
   "execution_count": null,
   "id": "ceee4330",
   "metadata": {},
   "outputs": [],
   "source": [
    "cat_df = x3.select_dtypes(include = ['object'])\n",
    "cat_df = pd.get_dummies(cat_df, drop_first = True)\n",
    "\n",
    "num_df = x3.select_dtypes(include = ['int64', 'float64'])\n",
    "x3 = pd.concat([num_df, cat_df], axis = 1)"
   ]
  },
  {
   "cell_type": "code",
   "execution_count": null,
   "id": "1c0eaff0",
   "metadata": {},
   "outputs": [],
   "source": [
    "x_train, x_test, y_train, y_test = train_test_split(x3, y3, test_size = 0.2, random_state=42, stratify = y3)"
   ]
  },
  {
   "cell_type": "code",
   "execution_count": null,
   "id": "80dcbcce",
   "metadata": {},
   "outputs": [],
   "source": [
    "from imblearn.over_sampling import RandomOverSampler\n",
    "from collections import Counter\n",
    "\n",
    "print(\"Trước khi oversampling:\", Counter(y_train))\n",
    "\n",
    "ros = RandomOverSampler(random_state=42)\n",
    "x_train, y_train = ros.fit_resample(x_train, y_train)\n",
    "\n",
    "print(\"Sau khi oversampling:\", Counter(y_train))"
   ]
  },
  {
   "cell_type": "code",
   "execution_count": null,
   "id": "0e93aee0",
   "metadata": {},
   "outputs": [],
   "source": [
    "num_df = x_train.select_dtypes(include = ['int64', 'float64'])\n",
    "scaler = StandardScaler()\n",
    "scaled__train = scaler.fit_transform(num_df)\n",
    "scaled_train_df = pd.DataFrame(data = scaled__train, columns = num_df.columns, index = x_train.index)"
   ]
  },
  {
   "cell_type": "code",
   "execution_count": null,
   "id": "40131656",
   "metadata": {},
   "outputs": [],
   "source": [
    "x_train.drop(columns = scaled_train_df.columns, inplace = True)\n",
    "x_train = pd.concat([scaled_train_df, x_train], axis = 1)"
   ]
  },
  {
   "cell_type": "code",
   "execution_count": null,
   "id": "7af9ec87",
   "metadata": {},
   "outputs": [],
   "source": [
    "num_df = []"
   ]
  },
  {
   "cell_type": "code",
   "execution_count": null,
   "id": "df21bc00",
   "metadata": {},
   "outputs": [],
   "source": [
    "num_df = x_test.select_dtypes(include = ['int64', 'float64'])\n",
    "\n",
    "scaled__test = scaler.transform(num_df)\n",
    "scaled_test_df = pd.DataFrame(data = scaled__test, columns = num_df.columns, index = x_test.index)"
   ]
  },
  {
   "cell_type": "code",
   "execution_count": null,
   "id": "4d82a595",
   "metadata": {},
   "outputs": [],
   "source": [
    "x_test.drop(columns = scaled_test_df.columns, inplace = True)\n",
    "x_test = pd.concat([scaled_test_df, x_test], axis = 1)"
   ]
  },
  {
   "cell_type": "code",
   "execution_count": null,
   "id": "b358ac8a",
   "metadata": {},
   "outputs": [],
   "source": [
    "from sklearn.calibration import CalibratedClassifierCV\n",
    "from sklearn.metrics import roc_auc_score\n",
    "from sklearn.neural_network import MLPClassifier\n",
    "from sklearn.tree import DecisionTreeClassifier\n",
    "from sklearn.linear_model import RidgeClassifierCV, RidgeClassifier\n",
    "from sklearn.dummy import DummyClassifier\n",
    "from sklearn.ensemble import AdaBoostClassifier, ExtraTreesClassifier, BaggingClassifier\n",
    "from sklearn.naive_bayes import BernoulliNB\n",
    "from xgboost import XGBClassifier\n",
    "from lightgbm import LGBMClassifier\n",
    "from sklearn.linear_model import Perceptron, PassiveAggressiveClassifier\n",
    "from sklearn.svm import LinearSVC\n",
    "from sklearn.discriminant_analysis import LinearDiscriminantAnalysis"
   ]
  },
  {
   "cell_type": "code",
   "execution_count": null,
   "id": "7c6d8857",
   "metadata": {},
   "outputs": [],
   "source": [
    "model = XGBClassifier(random_state = 42)\n",
    "\n",
    "param_grid = {\n",
    "    \"n_estimators\": [100, 200, 500],\n",
    "    \"max_depth\": [3, 5, 7],\n",
    "    \"learning_rate\": [0.01, 0.1, 0.2],\n",
    "    \"subsample\": [0.8, 1.0],\n",
    "    \"colsample_bytree\": [0.8, 1.0],\n",
    "    \"gamma\": [0, 0.1, 0.3],\n",
    "    \"reg_alpha\": [0, 0.01, 0.1],\n",
    "    \"reg_lambda\": [1, 1.5, 2.0]\n",
    "}"
   ]
  },
  {
   "cell_type": "code",
   "execution_count": null,
   "id": "c7f1feb4",
   "metadata": {},
   "outputs": [],
   "source": [
    "grid = GridSearchCV(estimator = model, param_grid = param_grid, scoring = 'accuracy', cv = 4, verbose = 1)\n",
    "grid.fit(x_train, y_train)\n",
    "y_predict = grid.predict(x_test)\n",
    "print(grid.best_params_)\n",
    "print(grid.best_score_)\n",
    "print(classification_report(y_test, y_predict, digits = 4))\n",
    "auc = roc_auc_score(y_test, y_predict)\n",
    "print(\"AUC =\", round(auc, 4))"
   ]
  },
  {
   "cell_type": "code",
   "execution_count": null,
   "id": "e20bf18a",
   "metadata": {},
   "outputs": [],
   "source": [
    "\n",
    "model.fit(x_train, y_train)\n",
    "y_predict = model.predict(x_test)\n",
    "y_proba = model.predict_proba(x_test)[:, 1]\n",
    "print(classification_report(y_test, y_predict, digits = 4))\n",
    "\n",
    "auc = roc_auc_score(y_test, y_proba)\n",
    "print(\"AUC =\", round(auc, 4))"
   ]
  }
 ],
 "metadata": {
  "kernelspec": {
   "display_name": "Python 3.12.7",
   "language": "python",
   "name": "myenv"
  },
  "language_info": {
   "codemirror_mode": {
    "name": "ipython",
    "version": 3
   },
   "file_extension": ".py",
   "mimetype": "text/x-python",
   "name": "python",
   "nbconvert_exporter": "python",
   "pygments_lexer": "ipython3",
   "version": "3.12.9"
  }
 },
 "nbformat": 4,
 "nbformat_minor": 5
}
